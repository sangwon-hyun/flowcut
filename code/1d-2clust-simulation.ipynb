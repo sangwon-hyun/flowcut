{
 "cells": [
  {
   "cell_type": "markdown",
   "id": "05056148",
   "metadata": {},
   "source": [
    "In this script, we generate 2-cluster synthetic 1d data, and test our model on it.\n",
    "\n",
    "First, we generate data and save it to a file named `../data/test.jld2`."
   ]
  },
  {
   "cell_type": "code",
   "execution_count": 14,
   "id": "832a2a89",
   "metadata": {},
   "outputs": [],
   "source": [
    "include(\"generator.jl\")"
   ]
  },
  {
   "cell_type": "markdown",
   "id": "51019f4d",
   "metadata": {},
   "source": [
    "Next, load the data and run the MCMC according to some simulation settings. These configurations are written in `test2.TOML`; the simulation results are setup.\n",
    "\n",
    "`test.TOML` has the following settings:\n",
    "(TODO: fill this in)"
   ]
  },
  {
   "cell_type": "code",
   "execution_count": 16,
   "id": "2b3f0d42",
   "metadata": {},
   "outputs": [
    {
     "name": "stderr",
     "output_type": "stream",
     "text": [
      "0.0%┣                                              ┫ 0/100 [00:00<00:-5, -0s/it]\n",
      "1.0%┣▍                                         ┫ 1/100 [00:01<Inf:Inf, InfGs/it]\n",
      "2.0%┣█                                              ┫ 2/100 [00:01<02:22, 1s/it]\n",
      "3.0%┣█▍                                             ┫ 3/100 [00:02<01:14, 1it/s]\n",
      "8.0%┣███▊                                           ┫ 8/100 [00:02<00:21, 4it/s]\n",
      "11.0%┣█████                                        ┫ 11/100 [00:02<00:15, 6it/s]\n",
      "15.0%┣██████▊                                      ┫ 15/100 [00:02<00:10, 8it/s]\n",
      "18.0%┣████████                                    ┫ 18/100 [00:02<00:09, 10it/s]\n",
      "23.0%┣██████████▏                                 ┫ 23/100 [00:02<00:06, 12it/s]\n",
      "25.0%┣███████████                                 ┫ 25/100 [00:02<00:06, 13it/s]\n",
      "31.0%┣█████████████▋                              ┫ 31/100 [00:02<00:04, 15it/s]\n",
      "34.0%┣███████████████                             ┫ 34/100 [00:02<00:04, 16it/s]\n",
      "39.0%┣█████████████████▏                          ┫ 39/100 [00:02<00:03, 18it/s]\n",
      "42.0%┣██████████████████▌                         ┫ 42/100 [00:02<00:03, 19it/s]\n",
      "47.0%┣████████████████████▊                       ┫ 47/100 [00:02<00:03, 21it/s]\n",
      "48.0%┣█████████████████████▏                      ┫ 48/100 [00:02<00:02, 21it/s]\n",
      "53.0%┣███████████████████████▎                    ┫ 53/100 [00:02<00:02, 23it/s]\n",
      "56.0%┣████████████████████████▋                   ┫ 56/100 [00:02<00:02, 23it/s]\n",
      "61.0%┣██████████████████████████▉                 ┫ 61/100 [00:02<00:02, 25it/s]\n",
      "64.0%┣████████████████████████████▏               ┫ 64/100 [00:02<00:01, 25it/s]\n",
      "69.0%┣██████████████████████████████▍             ┫ 69/100 [00:03<00:01, 27it/s]\n",
      "71.0%┣███████████████████████████████▎            ┫ 71/100 [00:03<00:01, 27it/s]\n",
      "76.0%┣█████████████████████████████████▍          ┫ 76/100 [00:03<00:01, 28it/s]\n",
      "78.0%┣██████████████████████████████████▎         ┫ 78/100 [00:03<00:01, 28it/s]\n",
      "80.0%┣███████████████████████████████████▏        ┫ 80/100 [00:03<00:01, 28it/s]\n",
      "81.0%┣███████████████████████████████████▋        ┫ 81/100 [00:03<00:01, 28it/s]\n",
      "82.0%┣████████████████████████████████████        ┫ 82/100 [00:03<00:01, 28it/s]\n",
      "84.0%┣█████████████████████████████████████       ┫ 84/100 [00:03<00:01, 27it/s]\n",
      "86.0%┣█████████████████████████████████████▉      ┫ 86/100 [00:03<00:01, 27it/s]\n",
      "88.0%┣██████████████████████████████████████▊     ┫ 88/100 [00:03<00:00, 27it/s]\n",
      "90.0%┣███████████████████████████████████████▋    ┫ 90/100 [00:03<00:00, 28it/s]\n",
      "92.0%┣████████████████████████████████████████▌   ┫ 92/100 [00:03<00:00, 28it/s]\n",
      "95.0%┣█████████████████████████████████████████▉  ┫ 95/100 [00:03<00:00, 28it/s]\n",
      "97.0%┣██████████████████████████████████████████▊ ┫ 97/100 [00:03<00:00, 28it/s]\n",
      "100.0%┣██████████████████████████████████████████┫ 100/100 [00:03<00:00, 29it/s]\n"
     ]
    }
   ],
   "source": [
    "config_file = \"test2.TOML\"\n",
    "include(\"MCMC.jl\")\n",
    "MCMC(config_file)"
   ]
  },
  {
   "cell_type": "markdown",
   "id": "7f27e177",
   "metadata": {},
   "source": [
    "Next, we make a plot with the following features (TODO: actually do this)\n",
    "- Cluster means ($\\{\\mu_kt, t=1,\\cdots, T\\}, k=1,2$) over time,\n",
    "- 95% probability regions (bands) for each cluster using,\n",
    "- Cluster means' thickness are proportional to the cluster probabilities ($\\{\\pi_kt, t=1,\\cdots, T\\}, k=1,2$).\n",
    "\n",
    "(TODO: maybe use https://blog.revolutionanalytics.com/2016/01/pipelining-r-python.html to use R ggplot plotting within this notebook)."
   ]
  },
  {
   "cell_type": "code",
   "execution_count": null,
   "id": "0885a7e5",
   "metadata": {},
   "outputs": [],
   "source": [
    "\n"
   ]
  },
  {
   "cell_type": "markdown",
   "id": "e9989cc6",
   "metadata": {},
   "source": [
    "Next, we plot the true cluster probabilities against the estimated ones."
   ]
  },
  {
   "cell_type": "code",
   "execution_count": null,
   "id": "96bea82b",
   "metadata": {},
   "outputs": [],
   "source": []
  },
  {
   "cell_type": "markdown",
   "id": "606e10e7",
   "metadata": {},
   "source": [
    "Next, we plot the imputed data."
   ]
  },
  {
   "cell_type": "code",
   "execution_count": null,
   "id": "6207829f",
   "metadata": {},
   "outputs": [],
   "source": []
  },
  {
   "cell_type": "markdown",
   "id": "f43ae1e3",
   "metadata": {},
   "source": [
    "We shorten the distance between the two cluster means (TODO: one setup is for when the cluster means touch but don't cross; another setup is for when cluster means actually cross)."
   ]
  },
  {
   "cell_type": "code",
   "execution_count": null,
   "id": "343e8611",
   "metadata": {},
   "outputs": [],
   "source": []
  },
  {
   "cell_type": "markdown",
   "id": "33159d7b",
   "metadata": {},
   "source": [
    "We also compare it against several other competing methods. The main competitor is a 2-cluster Gaussian mixture model applied to each timepoint separately. At each time point, the cluster with the higher mean $\\mu_{kt}$ is called cluster 2, and the other one is cluster 1. The analyses are repeated with this model."
   ]
  },
  {
   "cell_type": "code",
   "execution_count": null,
   "id": "8a5ca038",
   "metadata": {},
   "outputs": [],
   "source": []
  }
 ],
 "metadata": {
  "kernelspec": {
   "display_name": "Julia 1.8.5",
   "language": "julia",
   "name": "julia-1.8"
  },
  "language_info": {
   "file_extension": ".jl",
   "mimetype": "application/julia",
   "name": "julia",
   "version": "1.8.5"
  }
 },
 "nbformat": 4,
 "nbformat_minor": 5
}
